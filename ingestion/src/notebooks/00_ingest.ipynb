{
 "cells": [
  {
   "metadata": {},
   "cell_type": "markdown",
   "source": [
    "## Vector DB Ingestion\n",
    "<img src=\"https://docs.langchain4j.dev/img/logo.svg\" alt=\"LangChain4J\" width=\"200\" height=\"200\">"
   ]
  },
  {
   "metadata": {
    "ExecuteTime": {
     "end_time": "2025-10-27T09:10:55.352071Z",
     "start_time": "2025-10-27T09:10:53.256323Z"
    }
   },
   "cell_type": "code",
   "source": [
    "%use dataframe\n",
    "%useLatestDescriptors\n",
    "import com.fasterxml.jackson.module.kotlin.jacksonObjectMapper\n",
    "import com.fasterxml.jackson.module.kotlin.readValue\n",
    "import dev.langchain4j.data.segment.TextSegment\n",
    "import dev.langchain4j.store.embedding.EmbeddingStore\n",
    "import dev.langchain4j.store.embedding.pgvector.PgVectorEmbeddingStore\n",
    "import dev.langchain4j.model.embedding.*\n",
    "import dev.langchain4j.model.embedding.onnx.allminilml6v2.AllMiniLmL6V2EmbeddingModel\n",
    "import dev.langchain4j.data.embedding.*\n",
    "import dev.langchain4j.store.embedding.*\n",
    "import dev.langchain4j.store.embedding.filter.MetadataFilterBuilder.metadataKey\n",
    "import dev.langchain4j.data.document.Document\n",
    "import dev.langchain4j.data.document.Metadata\n",
    "import java.util.Arrays\n",
    "import java.util.concurrent.atomic.AtomicInteger\n",
    "import org.jetbrains.kotlinx.dataframe.codeGen.generateCode\n",
    "import org.jetbrains.kotlinx.dataframe.api.*\n",
    "import org.jetbrains.kotlinx.dataframe.io.*\n",
    "import java.sql.DriverManager\n",
    "import kotlin.Metadata as KotlinMetadata\n",
    "\n",
    "import io.kotest.matchers.comparables.shouldBeGreaterThanOrEqualTo\n",
    "import io.kotest.matchers.shouldBe\n",
    "import io.kotest.matchers.shouldNotBe\n",
    "import io.kotest.matchers.string.shouldStartWith\n",
    "import dev.langchain4j.data.document.splitter.DocumentSplitters\n"
   ],
   "outputs": [],
   "execution_count": 1
  },
  {
   "metadata": {
    "ExecuteTime": {
     "end_time": "2025-10-27T09:11:25.259017Z",
     "start_time": "2025-10-27T09:11:24.535317Z"
    }
   },
   "cell_type": "code",
   "source": [
    "val host = \"localhost\"\n",
    "val port = 5430\n",
    "val user = \"user\"\n",
    "val password = \"password\"\n",
    "val database = \"vector_store\"\n",
    "val jdbcUrl = \"jdbc:postgresql://$host:$port/$database\"\n",
    "val dbConfig = DatabaseConfiguration(jdbcUrl, user, password)\n",
    "val tableName = \"talks2\"\n",
    "val mapper = jacksonObjectMapper()\n",
    "\n",
    "// Test Connection\n",
    "DataFrame.readSqlQuery(dbConfig, \"SELECT table_name FROM information_schema.tables\").size().nrow  shouldBeGreaterThanOrEqualTo 0\n",
    "println(\"Connection to database successful\")"
   ],
   "outputs": [
    {
     "name": "stdout",
     "output_type": "stream",
     "text": [
      "Connection to database successful\n"
     ]
    }
   ],
   "execution_count": 5
  },
  {
   "metadata": {},
   "cell_type": "markdown",
   "source": [
    "## 📘 Ingestion for exercises\n",
    "#### Prepare Dataframe from: [dataset-kotlinconf.json](../main/resources/dataset-kotlinconf.json).\n"
   ]
  },
  {
   "metadata": {
    "ExecuteTime": {
     "end_time": "2025-10-27T09:11:27.578166Z",
     "start_time": "2025-10-27T09:11:27.407182Z"
    }
   },
   "cell_type": "code",
   "source": [
    "val df = DataFrame.readJson(\"./data/dataset-jfall.json\")\n",
    "val sessions = df.explode(\"sessions\").select(\"sessions\").rename(\"sessions\").into(\"session\").flatten()\n",
    "//generateCode enables us to access the individual columns in a type safe way, rather than Strings\n",
    "sessions.generateCode()\n",
    "//this shows the schema of the sessions\n",
    "sessions.schema()\n",
    "\n"
   ],
   "outputs": [
    {
     "data": {
      "text/plain": [
       "title: String\n",
       "startsAt: String\n",
       "endsAt: String\n",
       "category: List<String>\n",
       "room: String\n",
       "speakers: List<String>\n",
       "description: String"
      ]
     },
     "execution_count": 6,
     "metadata": {},
     "output_type": "execute_result"
    }
   ],
   "execution_count": 6
  },
  {
   "metadata": {},
   "cell_type": "markdown",
   "source": "#### Execute Ingestion precedure"
  },
  {
   "metadata": {
    "ExecuteTime": {
     "end_time": "2025-10-27T09:11:30.485989Z",
     "start_time": "2025-10-27T09:11:30.423529Z"
    }
   },
   "cell_type": "code",
   "source": [
    "val startsAt = sessions.map { java.time.Instant.parse(startsAt).toEpochMilli() }.first()\n",
    "startsAt"
   ],
   "outputs": [
    {
     "data": {
      "text/plain": [
       "1762412400000"
      ]
     },
     "execution_count": 7,
     "metadata": {},
     "output_type": "execute_result"
    }
   ],
   "execution_count": 7
  },
  {
   "metadata": {},
   "cell_type": "code",
   "outputs": [],
   "execution_count": null,
   "source": ""
  },
  {
   "metadata": {
    "ExecuteTime": {
     "end_time": "2025-10-27T09:12:35.992209Z",
     "start_time": "2025-10-27T09:12:32.266585Z"
    }
   },
   "cell_type": "code",
   "source": [
    "import dev.langchain4j.model.openai.OpenAiEmbeddingModel\n",
    "import dev.langchain4j.model.openai.OpenAiEmbeddingModelName\n",
    "import io.kotest.mpp.sysprop\n",
    "import java.util.UUID\n",
    "\n",
    "val zone = java.time.ZoneId.systemDefault()\n",
    "val conferenceDaysSorted = sessions\n",
    "    .map { java.time.Instant.parse(it.startsAt).atZone(zone).toLocalDate() }\n",
    "    .distinct()\n",
    "    .sorted()\n",
    "val dayIndexByDate = conferenceDaysSorted.mapIndexed { idx, date -> date to (idx + 1) }.toMap()\n",
    "\n",
    "fun phaseOfDayFrom(hour: Int, durationMinutes: Long): String = when {\n",
    "    durationMinutes >= 8 * 60 -> \"ALL_DAY\"\n",
    "    hour in 5..11 -> \"MORNING\"\n",
    "    hour in 12..17 -> \"AFTERNOON\"\n",
    "    else -> \"EVENING\"\n",
    "}\n",
    "\n",
    "val openAIApiToken = System.getenv(\"OPENAI_API_KEY\") ?: error(\"OPENAI_API_KEY environment variable not set\")\n",
    "val embeddingModel:EmbeddingModel = OpenAiEmbeddingModel.builder()\n",
    "    .apiKey(openAIApiToken)\n",
    "    .modelName(OpenAiEmbeddingModelName.TEXT_EMBEDDING_3_SMALL)\n",
    "    .build()\n",
    "\n",
    "\n",
    "//AllMiniLmL6V2EmbeddingModel() //(\"Use AllMiniLmL6V2EmbeddingModel\")\n",
    "\n",
    "// define EmbeddingStore\n",
    "val embeddingStore: EmbeddingStore<TextSegment> = PgVectorEmbeddingStore.builder()\n",
    "    .host(host)\n",
    "    .port(port)\n",
    "    .user(user)\n",
    "    .password(password)\n",
    "    .database(database)\n",
    "    .table(tableName)\n",
    "    .dimension(embeddingModel.dimension())\n",
    "    .dropTableFirst(true)\n",
    "    .build();\n",
    "\n",
    "// define ingestor\n",
    "val ingestor:EmbeddingStoreIngestor = EmbeddingStoreIngestor.builder()\n",
    "    .documentSplitter(DocumentSplitters.recursive(200, 40))\n",
    "    .embeddingModel(embeddingModel)\n",
    "    .embeddingStore(embeddingStore)\n",
    "    .build()\n",
    "\n",
    "//: produce list of Documents each containing the session title\n",
    "val documents:List<Document> = sessions.map {\n",
    "    val startZoned = java.time.Instant.parse(startsAt).atZone(zone)\n",
    "    val endZoned = java.time.Instant.parse(endsAt).atZone(zone)\n",
    "    val startLocal = startZoned.toLocalDateTime()\n",
    "    val endLocal = endZoned.toLocalDateTime()\n",
    "    val conferenceDay = startZoned.toLocalDate()\n",
    "    val durationMinutes = java.time.Duration.between(startZoned, endZoned).toMinutes()\n",
    "    val phaseOfDay = phaseOfDayFrom(startLocal.hour, durationMinutes)\n",
    "\n",
    "    Document.from(\"title:$title, description:$description\",\n",
    "        dev.langchain4j.data.document.Metadata(mapOf<String, Any>(\n",
    "            \"id\" to UUID.randomUUID().toString().replace(\"-\", \"\"),\n",
    "            \"title\" to title,\n",
    "            \"room\" to room,\n",
    "            \"category\" to category.joinToString(),\n",
    "            \"category\" to speakers.joinToString(),\n",
    "            // Extra derived metadata in local date-time (no UTC suffix)\n",
    "            \"startsAtLocalDateTime\" to java.time.format.DateTimeFormatter.ISO_LOCAL_DATE_TIME.format(startLocal),\n",
    "            \"endsAtLocalDateTime\" to java.time.format.DateTimeFormatter.ISO_LOCAL_DATE_TIME.format(endLocal),\n",
    "            \"startsAt\" to java.time.Instant.parse(startsAt).toEpochMilli(),\n",
    "            \"endsAt\" to java.time.Instant.parse(endsAt).toEpochMilli(),\n",
    "            \"conferenceDay\" to conferenceDay.toString(),\n",
    "            \"dayIndex\" to (dayIndexByDate[conferenceDay] ?: 1),\n",
    "            \"phaseOfDay\" to phaseOfDay,\n",
    "            \"durationMinutes\" to durationMinutes.toInt(),\n",
    "        ))\n",
    "    )\n",
    "}\n",
    "\n",
    "// execute ingestion\n",
    "val ingestionResult = ingestor.ingest(documents)\n",
    "\n",
    "println(\"Ingested a total of ${documents.size} documents with a total token count of: ${ingestionResult.tokenUsage().totalTokenCount()}\")\n"
   ],
   "outputs": [
    {
     "name": "stdout",
     "output_type": "stream",
     "text": [
      "Ingested a total of 71 documents with a total token count of: 4178\n"
     ]
    }
   ],
   "execution_count": 9
  },
  {
   "metadata": {},
   "cell_type": "markdown",
   "source": "#### Verify Ingestion\n"
  },
  {
   "metadata": {
    "ExecuteTime": {
     "end_time": "2025-10-27T09:21:59.281759Z",
     "start_time": "2025-10-27T09:21:58.495850Z"
    }
   },
   "cell_type": "code",
   "source": [
    "//verify db\n",
    "val dbDf = DataFrame.readSqlTable(dbConfig, tableName)\n",
    "dbDf.select( \"text\", \"embedding\", \"embedding_id\").head(10)\n",
    "\n",
    "val searchQuery:String = \"Sessions about Agentic AI and MCP Model context Protocol\"\n",
    "// embed the search\n",
    "val searchQueryEmbedding = embeddingModel.embed(searchQuery).content()\n",
    "\n",
    "// create the search request with metadata for: `category` containsString `Server-side`\n",
    "val request: EmbeddingSearchRequest = EmbeddingSearchRequest.builder()\n",
    "    .queryEmbedding(searchQueryEmbedding)\n",
    "    .maxResults(5)\n",
    "    .minScore(0.5)\n",
    "    //.filter(metadataKey(\"category\").containsString(\"Server-side\"))\n",
    "    .build()\n",
    "\n",
    "\n",
    "// perform the search via the EmbeddingStore\n",
    "println(\"Looking for talks similar to: $searchQuery...\\n\")\n",
    "val relevant:List<EmbeddingMatch<TextSegment>> = embeddingStore.search(request).matches()\n",
    "//relevant.forEach{\n",
    "//    println(\"Matched text: ${it.embedded().text()} with similarity score: ${it.score()}\")\n",
    "//}\n",
    "\n",
    "val res = relevant.groupBy { it.embedded().metadata().getString(\"title\") }.map { (_, sameDocs) ->\n",
    "    sameDocs.sortedByDescending { it.score() }.first()\n",
    "}.also { println(\"Unique titles found: \\n-\\t${it.joinToString(\"\\n-\\t\") { it.embedded().metadata().getString(\"title\").toString()}}\") }\n",
    "\n"
   ],
   "outputs": [
    {
     "name": "stdout",
     "output_type": "stream",
     "text": [
      "Looking for talks similar to: Sessions about Agentic AI and MCP Model context Protocol...\n",
      "\n",
      "Unique titles found: \n",
      "-\tSupercharge your LLM with Java: Model Context Protocol (MCP) in Action\n",
      "-\tLevel Up Your LangChain4j Apps for Production\n",
      "-\tFrom Scratch to Scalable: Building Smarter AI Agents with Frameworks\n",
      "-\tEnterprise Gen AI with Embabel\n",
      "-\tHow to build your own fun and absurd pair programmer\n"
     ]
    }
   ],
   "execution_count": 16
  }
 ],
 "metadata": {
  "kernelspec": {
   "display_name": "Kotlin",
   "language": "kotlin",
   "name": "kotlin"
  },
  "language_info": {
   "name": "kotlin",
   "version": "2.2.20-dev-4982",
   "mimetype": "text/x-kotlin",
   "file_extension": ".kt",
   "pygments_lexer": "kotlin",
   "codemirror_mode": "text/x-kotlin",
   "nbconvert_exporter": ""
  },
  "ktnbPluginMetadata": {
   "projectDependencies": [
    "ingestion"
   ],
   "projectLibraries": false
  }
 },
 "nbformat": 4,
 "nbformat_minor": 0
}
